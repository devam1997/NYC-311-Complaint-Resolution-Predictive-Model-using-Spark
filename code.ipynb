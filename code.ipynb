{
 "cells": [
  {
   "cell_type": "code",
   "execution_count": 2,
   "metadata": {},
   "outputs": [
    {
     "data": {
      "application/vnd.jupyter.widget-view+json": {
       "model_id": "35258c5ee2a94be08014ad4a8ea10fa9",
       "version_major": 2,
       "version_minor": 0
      },
      "text/plain": [
       "VBox()"
      ]
     },
     "metadata": {},
     "output_type": "display_data"
    },
    {
     "data": {
      "application/vnd.jupyter.widget-view+json": {
       "model_id": "",
       "version_major": 2,
       "version_minor": 0
      },
      "text/plain": [
       "FloatProgress(value=0.0, bar_style='info', description='Progress:', layout=Layout(height='25px', width='50%'),…"
      ]
     },
     "metadata": {},
     "output_type": "display_data"
    }
   ],
   "source": [
    "from pyspark import SQLContext\n",
    "sqlContext=SQLContext(sc)\n",
    "df=sqlContext.read.format('csv')\\\n",
    "    .options(header='true',inferschema='true')\\\n",
    "    .load('s3://pgarias-bucket-cloud/311_Service_Requests_from_2015_to_Present.csv')\n"
   ]
  },
  {
   "cell_type": "code",
   "execution_count": null,
   "metadata": {},
   "outputs": [],
   "source": [
    "df.describe().show()"
   ]
  },
  {
   "cell_type": "code",
   "execution_count": 3,
   "metadata": {},
   "outputs": [
    {
     "data": {
      "application/vnd.jupyter.widget-view+json": {
       "model_id": "d0a47bf0579c4e5a92a3c18484585dc5",
       "version_major": 2,
       "version_minor": 0
      },
      "text/plain": [
       "VBox()"
      ]
     },
     "metadata": {},
     "output_type": "display_data"
    },
    {
     "data": {
      "application/vnd.jupyter.widget-view+json": {
       "model_id": "",
       "version_major": 2,
       "version_minor": 0
      },
      "text/plain": [
       "FloatProgress(value=0.0, bar_style='info', description='Progress:', layout=Layout(height='25px', width='50%'),…"
      ]
     },
     "metadata": {},
     "output_type": "display_data"
    }
   ],
   "source": [
    "df2=df.drop('Unique Key','Agency Name','BBL','Location','Location Type', 'Cross Street 1', 'Cross Street 2', 'Intersection Street 1',\n",
    "             'Intersection Street 2','Landmark', 'Due Date', 'Vehicle Type', 'Taxi Company Borough',\n",
    "             'Taxi Pick Up Location', 'Bridge Highway Name', 'Bridge Highway Direction', 'Road Ramp',\n",
    "             'Bridge Highway Segment')"
   ]
  },
  {
   "cell_type": "code",
   "execution_count": null,
   "metadata": {},
   "outputs": [],
   "source": [
    "from pyspark.sql.functions import col,countDistinct\n",
    "df2.agg(*(countDistinct(col(c)).alias(c) for c in df2.columns)).show()"
   ]
  },
  {
   "cell_type": "code",
   "execution_count": 4,
   "metadata": {},
   "outputs": [
    {
     "data": {
      "application/vnd.jupyter.widget-view+json": {
       "model_id": "e954cc6209ca4a26bb8b93b6c080163c",
       "version_major": 2,
       "version_minor": 0
      },
      "text/plain": [
       "VBox()"
      ]
     },
     "metadata": {},
     "output_type": "display_data"
    },
    {
     "data": {
      "application/vnd.jupyter.widget-view+json": {
       "model_id": "",
       "version_major": 2,
       "version_minor": 0
      },
      "text/plain": [
       "FloatProgress(value=0.0, bar_style='info', description='Progress:', layout=Layout(height='25px', width='50%'),…"
      ]
     },
     "metadata": {},
     "output_type": "display_data"
    }
   ],
   "source": [
    "df3=df2.drop('Descriptor','Incident Zip','Incident Address',\n",
    "             'Street Name','City','Resolution Description',\n",
    "            'Resolution Action Updated Date','X Coordinate (State Plane)',\n",
    "            'Y Coordinate (State Plane)','Park Facility Name',\n",
    "            'Latitude','Longitude')"
   ]
  },
  {
   "cell_type": "code",
   "execution_count": 5,
   "metadata": {},
   "outputs": [
    {
     "data": {
      "application/vnd.jupyter.widget-view+json": {
       "model_id": "ebbec82e7f58489a9d00eb481be84f4f",
       "version_major": 2,
       "version_minor": 0
      },
      "text/plain": [
       "VBox()"
      ]
     },
     "metadata": {},
     "output_type": "display_data"
    },
    {
     "data": {
      "application/vnd.jupyter.widget-view+json": {
       "model_id": "",
       "version_major": 2,
       "version_minor": 0
      },
      "text/plain": [
       "FloatProgress(value=0.0, bar_style='info', description='Progress:', layout=Layout(height='25px', width='50%'),…"
      ]
     },
     "metadata": {},
     "output_type": "display_data"
    }
   ],
   "source": [
    "df4=df3.filter(df3.Status=='Closed')"
   ]
  },
  {
   "cell_type": "code",
   "execution_count": 6,
   "metadata": {},
   "outputs": [
    {
     "data": {
      "application/vnd.jupyter.widget-view+json": {
       "model_id": "8b423a6a6df24da58cce2970ed157235",
       "version_major": 2,
       "version_minor": 0
      },
      "text/plain": [
       "VBox()"
      ]
     },
     "metadata": {},
     "output_type": "display_data"
    },
    {
     "data": {
      "application/vnd.jupyter.widget-view+json": {
       "model_id": "",
       "version_major": 2,
       "version_minor": 0
      },
      "text/plain": [
       "FloatProgress(value=0.0, bar_style='info', description='Progress:', layout=Layout(height='25px', width='50%'),…"
      ]
     },
     "metadata": {},
     "output_type": "display_data"
    }
   ],
   "source": [
    "df5=df4.dropna()"
   ]
  },
  {
   "cell_type": "code",
   "execution_count": 7,
   "metadata": {},
   "outputs": [
    {
     "data": {
      "application/vnd.jupyter.widget-view+json": {
       "model_id": "b5aa910046424f44a6bf38c9801f4588",
       "version_major": 2,
       "version_minor": 0
      },
      "text/plain": [
       "VBox()"
      ]
     },
     "metadata": {},
     "output_type": "display_data"
    },
    {
     "data": {
      "application/vnd.jupyter.widget-view+json": {
       "model_id": "",
       "version_major": 2,
       "version_minor": 0
      },
      "text/plain": [
       "FloatProgress(value=0.0, bar_style='info', description='Progress:', layout=Layout(height='25px', width='50%'),…"
      ]
     },
     "metadata": {},
     "output_type": "display_data"
    }
   ],
   "source": [
    "from pyspark.sql.functions import udf, col\n",
    "from pyspark.sql.types import FloatType,IntegerType,StringType\n",
    "def month_to_season(date):\n",
    "    date=str(date)\n",
    "    monthint=int(date[0:2])\n",
    "    if monthint>=3 and monthint<=5:\n",
    "        return 'Spring'\n",
    "    if monthint>=6 and monthint<=8:\n",
    "        return 'Summer'\n",
    "    if monthint>=9 and monthint<=11:\n",
    "        return 'Fall'\n",
    "    if monthint==12 or monthint==1 or monthint==2:\n",
    "        return 'Winter'\n",
    "udfmonth_to_season=udf(month_to_season,StringType())\n",
    "df6=df5.withColumn(\"Season\",udfmonth_to_season(\"Created Date\"))"
   ]
  },
  {
   "cell_type": "code",
   "execution_count": null,
   "metadata": {},
   "outputs": [],
   "source": [
    "from pyspark.sql.functions import from_unixtime,unix_timestamp\n",
    "from pyspark.sql.types import DateType\n",
    "timeFmt = 'MM/dd/yyyy hh:mm:ss a'\n",
    "timeDiff = (unix_timestamp('Closed Date', format=timeFmt)\n",
    "            - unix_timestamp('Created Date', format=timeFmt))\n",
    "df7 = df6.withColumn(\"Duration\", timeDiff)\n",
    "def int_to_float(x):\n",
    "    return float(x)\n",
    "udfint_to_float = udf(int_to_float, FloatType())\n",
    "df8 = df7.withColumn(\"Duration_float\", udfint_to_float(\"Duration\"))"
   ]
  },
  {
   "cell_type": "code",
   "execution_count": 13,
   "metadata": {},
   "outputs": [
    {
     "data": {
      "application/vnd.jupyter.widget-view+json": {
       "model_id": "5ed60c7306534b19a3f2f62bac70a4d9",
       "version_major": 2,
       "version_minor": 0
      },
      "text/plain": [
       "VBox()"
      ]
     },
     "metadata": {},
     "output_type": "display_data"
    },
    {
     "data": {
      "application/vnd.jupyter.widget-view+json": {
       "model_id": "",
       "version_major": 2,
       "version_minor": 0
      },
      "text/plain": [
       "FloatProgress(value=0.0, bar_style='info', description='Progress:', layout=Layout(height='25px', width='50%'),…"
      ]
     },
     "metadata": {},
     "output_type": "display_data"
    },
    {
     "name": "stdout",
     "output_type": "stream",
     "text": [
      "[Row(Season='Spring', sum(Duration)=2131007277207, sum(Duration_float)=2131007276822.0), Row(Season='Summer', sum(Duration)=2715251668456, sum(Duration_float)=2715251668433.0), Row(Season='Fall', sum(Duration)=2429944692993, sum(Duration_float)=2429944692861.0), Row(Season='Winter', sum(Duration)=2461082986694, sum(Duration_float)=2461082986216.0)]"
     ]
    }
   ],
   "source": [
    "df8.groupBy('Season').sum().collect()"
   ]
  },
  {
   "cell_type": "code",
   "execution_count": 9,
   "metadata": {},
   "outputs": [
    {
     "data": {
      "application/vnd.jupyter.widget-view+json": {
       "model_id": "ac77ae8bd5d04596bd132605e811d913",
       "version_major": 2,
       "version_minor": 0
      },
      "text/plain": [
       "VBox()"
      ]
     },
     "metadata": {},
     "output_type": "display_data"
    },
    {
     "data": {
      "application/vnd.jupyter.widget-view+json": {
       "model_id": "",
       "version_major": 2,
       "version_minor": 0
      },
      "text/plain": [
       "FloatProgress(value=0.0, bar_style='info', description='Progress:', layout=Layout(height='25px', width='50%'),…"
      ]
     },
     "metadata": {},
     "output_type": "display_data"
    }
   ],
   "source": [
    "df9=df8.drop('Created Date','Closed Date','Status')"
   ]
  },
  {
   "cell_type": "code",
   "execution_count": 10,
   "metadata": {},
   "outputs": [
    {
     "data": {
      "application/vnd.jupyter.widget-view+json": {
       "model_id": "00ee3207943248c8952ed761d2797a82",
       "version_major": 2,
       "version_minor": 0
      },
      "text/plain": [
       "VBox()"
      ]
     },
     "metadata": {},
     "output_type": "display_data"
    },
    {
     "data": {
      "application/vnd.jupyter.widget-view+json": {
       "model_id": "",
       "version_major": 2,
       "version_minor": 0
      },
      "text/plain": [
       "FloatProgress(value=0.0, bar_style='info', description='Progress:', layout=Layout(height='25px', width='50%'),…"
      ]
     },
     "metadata": {},
     "output_type": "display_data"
    }
   ],
   "source": [
    "df10=df9.select('Duration','Duration_float','Agency','Complaint Type',\n",
    "                'Address Type','Facility Type','Community Board','Borough',\n",
    "                'Open Data Channel Type','Park Borough','Season')"
   ]
  },
  {
   "cell_type": "code",
   "execution_count": 28,
   "metadata": {},
   "outputs": [
    {
     "data": {
      "application/vnd.jupyter.widget-view+json": {
       "model_id": "beec5ced5aeb4d09a527748a4947d30f",
       "version_major": 2,
       "version_minor": 0
      },
      "text/plain": [
       "VBox()"
      ]
     },
     "metadata": {},
     "output_type": "display_data"
    },
    {
     "data": {
      "application/vnd.jupyter.widget-view+json": {
       "model_id": "",
       "version_major": 2,
       "version_minor": 0
      },
      "text/plain": [
       "FloatProgress(value=0.0, bar_style='info', description='Progress:', layout=Layout(height='25px', width='50%'),…"
      ]
     },
     "metadata": {},
     "output_type": "display_data"
    },
    {
     "name": "stdout",
     "output_type": "stream",
     "text": [
      "+--------+--------------+------+--------------------+------------+-------------+---------------+---------+----------------------+------------+------+\n",
      "|Duration|Duration_float|Agency|      Complaint Type|Address Type|Facility Type|Community Board|  Borough|Open Data Channel Type|Park Borough|Season|\n",
      "+--------+--------------+------+--------------------+------------+-------------+---------------+---------+----------------------+------------+------+\n",
      "|   10020|       10020.0|  NYPD|    Blocked Driveway|     ADDRESS|     Precinct|      10 QUEENS|   QUEENS|                 PHONE|      QUEENS|Winter|\n",
      "|    9653|        9653.0|  NYPD|    Blocked Driveway|     ADDRESS|     Precinct|       12 BRONX|    BRONX|                 PHONE|       BRONX|Winter|\n",
      "|    1143|        1143.0|  NYPD|Noise - Street/Si...|     ADDRESS|     Precinct|   09 MANHATTAN|MANHATTAN|                ONLINE|   MANHATTAN|Winter|\n",
      "|    8434|        8434.0|  NYPD|     Noise - Vehicle|     ADDRESS|     Precinct|       07 BRONX|    BRONX|                ONLINE|       BRONX|Winter|\n",
      "|   37067|       37067.0|  NYPD|     Illegal Parking|     ADDRESS|     Precinct|      09 QUEENS|   QUEENS|                 PHONE|      QUEENS|Winter|\n",
      "|    3496|        3496.0|  NYPD| Noise - Residential|     ADDRESS|     Precinct|      06 QUEENS|   QUEENS|                 PHONE|      QUEENS|Winter|\n",
      "|    4625|        4625.0|  NYPD|Noise - Street/Si...|INTERSECTION|     Precinct|   03 MANHATTAN|MANHATTAN|                 PHONE|   MANHATTAN|Winter|\n",
      "|    4083|        4083.0|  NYPD| Noise - Residential|     ADDRESS|     Precinct|    03 BROOKLYN| BROOKLYN|                ONLINE|    BROOKLYN|Winter|\n",
      "|    2259|        2259.0|  NYPD|Noise - Street/Si...|INTERSECTION|     Precinct|       05 BRONX|    BRONX|                 PHONE|       BRONX|Winter|\n",
      "|   21515|       21515.0|  NYPD|    Blocked Driveway|     ADDRESS|     Precinct|       09 BRONX|    BRONX|                 PHONE|       BRONX|Winter|\n",
      "|     522|         522.0|  NYPD| Noise - Residential|     ADDRESS|     Precinct|   09 MANHATTAN|MANHATTAN|                ONLINE|   MANHATTAN|Winter|\n",
      "|    4181|        4181.0|  NYPD|    Blocked Driveway|INTERSECTION|     Precinct|      04 QUEENS|   QUEENS|                 PHONE|      QUEENS|Winter|\n",
      "|    9229|        9229.0|  NYPD|    Blocked Driveway|     ADDRESS|     Precinct|       12 BRONX|    BRONX|                 PHONE|       BRONX|Winter|\n",
      "|    4797|        4797.0|  NYPD| Noise - Residential|     ADDRESS|     Precinct|      07 QUEENS|   QUEENS|                ONLINE|      QUEENS|Winter|\n",
      "|   26938|       26938.0|  NYPD| Noise - Residential|     ADDRESS|     Precinct|    14 BROOKLYN| BROOKLYN|                ONLINE|    BROOKLYN|Winter|\n",
      "|   37206|       37206.0|  NYPD| Noise - Residential|     ADDRESS|     Precinct|      05 QUEENS|   QUEENS|                ONLINE|      QUEENS|Winter|\n",
      "|   17488|       17488.0|  NYPD| Noise - Residential|     ADDRESS|     Precinct|   03 MANHATTAN|MANHATTAN|                 PHONE|   MANHATTAN|Winter|\n",
      "|   16017|       16017.0|  NYPD| Noise - Residential|     ADDRESS|     Precinct|    06 BROOKLYN| BROOKLYN|                ONLINE|    BROOKLYN|Winter|\n",
      "|    9950|        9950.0|  NYPD| Noise - Residential|     ADDRESS|     Precinct|    02 BROOKLYN| BROOKLYN|                 PHONE|    BROOKLYN|Winter|\n",
      "|     375|         375.0|  NYPD| Noise - Residential|     ADDRESS|     Precinct|   09 MANHATTAN|MANHATTAN|                ONLINE|   MANHATTAN|Winter|\n",
      "+--------+--------------+------+--------------------+------------+-------------+---------------+---------+----------------------+------------+------+\n",
      "only showing top 20 rows"
     ]
    }
   ],
   "source": [
    "df10.show()"
   ]
  },
  {
   "cell_type": "code",
   "execution_count": 11,
   "metadata": {},
   "outputs": [
    {
     "data": {
      "application/vnd.jupyter.widget-view+json": {
       "model_id": "28e3417cd8ac404f8b2b6f189a54c096",
       "version_major": 2,
       "version_minor": 0
      },
      "text/plain": [
       "VBox()"
      ]
     },
     "metadata": {},
     "output_type": "display_data"
    },
    {
     "data": {
      "application/vnd.jupyter.widget-view+json": {
       "model_id": "",
       "version_major": 2,
       "version_minor": 0
      },
      "text/plain": [
       "FloatProgress(value=0.0, bar_style='info', description='Progress:', layout=Layout(height='25px', width='50%'),…"
      ]
     },
     "metadata": {},
     "output_type": "display_data"
    }
   ],
   "source": [
    "from pyspark.ml import Pipeline\n",
    "from pyspark.ml.feature import StringIndexer\n",
    "indexing=[StringIndexer(inputCol=col,outputCol=col+\"indexed\").fit(df10) \n",
    "          for col in list(set(df10.columns)-set(['Duration_float']))]\n",
    "pipeline=Pipeline(stages=indexing)\n",
    "df10_i=pipeline.fit(df10).transform(df10)"
   ]
  },
  {
   "cell_type": "code",
   "execution_count": 30,
   "metadata": {},
   "outputs": [
    {
     "data": {
      "application/vnd.jupyter.widget-view+json": {
       "model_id": "0a44fb25b5cb4faead68e322f1e1fdcd",
       "version_major": 2,
       "version_minor": 0
      },
      "text/plain": [
       "VBox()"
      ]
     },
     "metadata": {},
     "output_type": "display_data"
    },
    {
     "data": {
      "application/vnd.jupyter.widget-view+json": {
       "model_id": "",
       "version_major": 2,
       "version_minor": 0
      },
      "text/plain": [
       "FloatProgress(value=0.0, bar_style='info', description='Progress:', layout=Layout(height='25px', width='50%'),…"
      ]
     },
     "metadata": {},
     "output_type": "display_data"
    },
    {
     "name": "stdout",
     "output_type": "stream",
     "text": [
      "+--------+--------------+------+--------------------+------------+-------------+---------------+---------+----------------------+------------+------+---------------------+-------------+--------------+-------------------+--------------------+-------------+-----------------------------+---------------+-------------------+----------------------+\n",
      "|Duration|Duration_float|Agency|      Complaint Type|Address Type|Facility Type|Community Board|  Borough|Open Data Channel Type|Park Borough|Season|Complaint Typeindexed|Agencyindexed|Boroughindexed|Park Boroughindexed|Facility Typeindexed|Seasonindexed|Open Data Channel Typeindexed|Durationindexed|Address Typeindexed|Community Boardindexed|\n",
      "+--------+--------------+------+--------------------+------------+-------------+---------------+---------+----------------------+------------+------+---------------------+-------------+--------------+-------------------+--------------------+-------------+-----------------------------+---------------+-------------------+----------------------+\n",
      "|   10020|       10020.0|  NYPD|    Blocked Driveway|     ADDRESS|     Precinct|      10 QUEENS|   QUEENS|                 PHONE|      QUEENS|Winter|                  3.0|          0.0|           1.0|                1.0|                 1.0|          0.0|                          0.0|          198.0|                0.0|                  24.0|\n",
      "|    9653|        9653.0|  NYPD|    Blocked Driveway|     ADDRESS|     Precinct|       12 BRONX|    BRONX|                 PHONE|       BRONX|Winter|                  3.0|          0.0|           3.0|                3.0|                 1.0|          0.0|                          0.0|        11954.0|                0.0|                  14.0|\n",
      "|    1143|        1143.0|  NYPD|Noise - Street/Si...|     ADDRESS|     Precinct|   09 MANHATTAN|MANHATTAN|                ONLINE|   MANHATTAN|Winter|                  8.0|          0.0|           2.0|                2.0|                 1.0|          0.0|                          1.0|         7993.0|                0.0|                  29.0|\n",
      "|    8434|        8434.0|  NYPD|     Noise - Vehicle|     ADDRESS|     Precinct|       07 BRONX|    BRONX|                ONLINE|       BRONX|Winter|                 26.0|          0.0|           3.0|                3.0|                 1.0|          0.0|                          1.0|        10209.0|                0.0|                   8.0|\n",
      "|   37067|       37067.0|  NYPD|     Illegal Parking|     ADDRESS|     Precinct|      09 QUEENS|   QUEENS|                 PHONE|      QUEENS|Winter|                  2.0|          0.0|           1.0|                1.0|                 1.0|          0.0|                          0.0|        70791.0|                0.0|                  19.0|\n",
      "|    3496|        3496.0|  NYPD| Noise - Residential|     ADDRESS|     Precinct|      06 QUEENS|   QUEENS|                 PHONE|      QUEENS|Winter|                  1.0|          0.0|           1.0|                1.0|                 1.0|          0.0|                          0.0|         7496.0|                0.0|                  55.0|\n",
      "|    4625|        4625.0|  NYPD|Noise - Street/Si...|INTERSECTION|     Precinct|   03 MANHATTAN|MANHATTAN|                 PHONE|   MANHATTAN|Winter|                  8.0|          0.0|           2.0|                2.0|                 1.0|          0.0|                          0.0|         2776.0|                1.0|                  15.0|\n",
      "|    4083|        4083.0|  NYPD| Noise - Residential|     ADDRESS|     Precinct|    03 BROOKLYN| BROOKLYN|                ONLINE|    BROOKLYN|Winter|                  1.0|          0.0|           0.0|                0.0|                 1.0|          0.0|                          1.0|         5595.0|                0.0|                   2.0|\n",
      "|    2259|        2259.0|  NYPD|Noise - Street/Si...|INTERSECTION|     Precinct|       05 BRONX|    BRONX|                 PHONE|       BRONX|Winter|                  8.0|          0.0|           3.0|                3.0|                 1.0|          0.0|                          0.0|         5669.0|                1.0|                  13.0|\n",
      "|   21515|       21515.0|  NYPD|    Blocked Driveway|     ADDRESS|     Precinct|       09 BRONX|    BRONX|                 PHONE|       BRONX|Winter|                  3.0|          0.0|           3.0|                3.0|                 1.0|          0.0|                          0.0|        27047.0|                0.0|                  16.0|\n",
      "|     522|         522.0|  NYPD| Noise - Residential|     ADDRESS|     Precinct|   09 MANHATTAN|MANHATTAN|                ONLINE|   MANHATTAN|Winter|                  1.0|          0.0|           2.0|                2.0|                 1.0|          0.0|                          1.0|         4358.0|                0.0|                  29.0|\n",
      "|    4181|        4181.0|  NYPD|    Blocked Driveway|INTERSECTION|     Precinct|      04 QUEENS|   QUEENS|                 PHONE|      QUEENS|Winter|                  3.0|          0.0|           1.0|                1.0|                 1.0|          0.0|                          0.0|         2928.0|                1.0|                  44.0|\n",
      "|    9229|        9229.0|  NYPD|    Blocked Driveway|     ADDRESS|     Precinct|       12 BRONX|    BRONX|                 PHONE|       BRONX|Winter|                  3.0|          0.0|           3.0|                3.0|                 1.0|          0.0|                          0.0|        11776.0|                0.0|                  14.0|\n",
      "|    4797|        4797.0|  NYPD| Noise - Residential|     ADDRESS|     Precinct|      07 QUEENS|   QUEENS|                ONLINE|      QUEENS|Winter|                  1.0|          0.0|           1.0|                1.0|                 1.0|          0.0|                          1.0|         3924.0|                0.0|                   7.0|\n",
      "|   26938|       26938.0|  NYPD| Noise - Residential|     ADDRESS|     Precinct|    14 BROOKLYN| BROOKLYN|                ONLINE|    BROOKLYN|Winter|                  1.0|          0.0|           0.0|                0.0|                 1.0|          0.0|                          1.0|        32211.0|                0.0|                  11.0|\n",
      "|   37206|       37206.0|  NYPD| Noise - Residential|     ADDRESS|     Precinct|      05 QUEENS|   QUEENS|                ONLINE|      QUEENS|Winter|                  1.0|          0.0|           1.0|                1.0|                 1.0|          0.0|                          1.0|        46265.0|                0.0|                   5.0|\n",
      "|   17488|       17488.0|  NYPD| Noise - Residential|     ADDRESS|     Precinct|   03 MANHATTAN|MANHATTAN|                 PHONE|   MANHATTAN|Winter|                  1.0|          0.0|           2.0|                2.0|                 1.0|          0.0|                          0.0|        22725.0|                0.0|                  15.0|\n",
      "|   16017|       16017.0|  NYPD| Noise - Residential|     ADDRESS|     Precinct|    06 BROOKLYN| BROOKLYN|                ONLINE|    BROOKLYN|Winter|                  1.0|          0.0|           0.0|                0.0|                 1.0|          0.0|                          1.0|        22360.0|                0.0|                  37.0|\n",
      "|    9950|        9950.0|  NYPD| Noise - Residential|     ADDRESS|     Precinct|    02 BROOKLYN| BROOKLYN|                 PHONE|    BROOKLYN|Winter|                  1.0|          0.0|           0.0|                0.0|                 1.0|          0.0|                          0.0|        13170.0|                0.0|                  35.0|\n",
      "|     375|         375.0|  NYPD| Noise - Residential|     ADDRESS|     Precinct|   09 MANHATTAN|MANHATTAN|                ONLINE|   MANHATTAN|Winter|                  1.0|          0.0|           2.0|                2.0|                 1.0|          0.0|                          1.0|         9837.0|                0.0|                  29.0|\n",
      "+--------+--------------+------+--------------------+------------+-------------+---------------+---------+----------------------+------------+------+---------------------+-------------+--------------+-------------------+--------------------+-------------+-----------------------------+---------------+-------------------+----------------------+\n",
      "only showing top 20 rows"
     ]
    }
   ],
   "source": [
    "df10_i.show()"
   ]
  },
  {
   "cell_type": "code",
   "execution_count": 12,
   "metadata": {},
   "outputs": [
    {
     "data": {
      "application/vnd.jupyter.widget-view+json": {
       "model_id": "182ceada4356437dbf523e3bfb3da908",
       "version_major": 2,
       "version_minor": 0
      },
      "text/plain": [
       "VBox()"
      ]
     },
     "metadata": {},
     "output_type": "display_data"
    },
    {
     "data": {
      "application/vnd.jupyter.widget-view+json": {
       "model_id": "",
       "version_major": 2,
       "version_minor": 0
      },
      "text/plain": [
       "FloatProgress(value=0.0, bar_style='info', description='Progress:', layout=Layout(height='25px', width='50%'),…"
      ]
     },
     "metadata": {},
     "output_type": "display_data"
    }
   ],
   "source": [
    "from pyspark.ml.feature import VectorAssembler\n",
    "vectorAssembler = VectorAssembler(inputCols = ['Agencyindexed', 'Boroughindexed','Complaint Typeindexed', \n",
    "                                               'Park Boroughindexed', 'Facility Typeindexed', 'Seasonindexed', \n",
    "                                               'Open Data Channel Typeindexed', 'Address Typeindexed', \n",
    "                                               'Community Boardindexed'], outputCol = 'features')\n",
    "vdf10_i = vectorAssembler.transform(df10_i)\n",
    "vdf10_i = vdf10_i.select(['features', 'Duration_float'])"
   ]
  },
  {
   "cell_type": "code",
   "execution_count": 13,
   "metadata": {},
   "outputs": [
    {
     "data": {
      "application/vnd.jupyter.widget-view+json": {
       "model_id": "e8a31e51650e4e469e43479346319449",
       "version_major": 2,
       "version_minor": 0
      },
      "text/plain": [
       "VBox()"
      ]
     },
     "metadata": {},
     "output_type": "display_data"
    },
    {
     "data": {
      "application/vnd.jupyter.widget-view+json": {
       "model_id": "",
       "version_major": 2,
       "version_minor": 0
      },
      "text/plain": [
       "FloatProgress(value=0.0, bar_style='info', description='Progress:', layout=Layout(height='25px', width='50%'),…"
      ]
     },
     "metadata": {},
     "output_type": "display_data"
    }
   ],
   "source": [
    "(trainingData, testData) = vdf10_i.randomSplit([0.7, 0.3])"
   ]
  },
  {
   "cell_type": "code",
   "execution_count": 14,
   "metadata": {},
   "outputs": [
    {
     "data": {
      "application/vnd.jupyter.widget-view+json": {
       "model_id": "6266ce9006114efd94f410801db8dd2d",
       "version_major": 2,
       "version_minor": 0
      },
      "text/plain": [
       "VBox()"
      ]
     },
     "metadata": {},
     "output_type": "display_data"
    },
    {
     "data": {
      "application/vnd.jupyter.widget-view+json": {
       "model_id": "",
       "version_major": 2,
       "version_minor": 0
      },
      "text/plain": [
       "FloatProgress(value=0.0, bar_style='info', description='Progress:', layout=Layout(height='25px', width='50%'),…"
      ]
     },
     "metadata": {},
     "output_type": "display_data"
    },
    {
     "name": "stdout",
     "output_type": "stream",
     "text": [
      "SparseVector(9, {0: 0.0029, 1: 0.0005, 2: 0.9776, 5: 0.0003, 6: 0.0077, 7: 0.0009, 8: 0.01})"
     ]
    }
   ],
   "source": [
    "from pyspark.ml.regression import DecisionTreeRegressor\n",
    "regressor=DecisionTreeRegressor(featuresCol='features',labelCol='Duration_float',maxBins=250)\n",
    "model=regressor.fit(trainingData)\n",
    "model.featureImportances"
   ]
  },
  {
   "cell_type": "code",
   "execution_count": 16,
   "metadata": {},
   "outputs": [
    {
     "data": {
      "application/vnd.jupyter.widget-view+json": {
       "model_id": "8d8771aaab344cff94ff47a3077921e8",
       "version_major": 2,
       "version_minor": 0
      },
      "text/plain": [
       "VBox()"
      ]
     },
     "metadata": {},
     "output_type": "display_data"
    },
    {
     "data": {
      "application/vnd.jupyter.widget-view+json": {
       "model_id": "",
       "version_major": 2,
       "version_minor": 0
      },
      "text/plain": [
       "FloatProgress(value=0.0, bar_style='info', description='Progress:', layout=Layout(height='25px', width='50%'),…"
      ]
     },
     "metadata": {},
     "output_type": "display_data"
    },
    {
     "name": "stdout",
     "output_type": "stream",
     "text": [
      "10964014.732892832"
     ]
    }
   ],
   "source": [
    "from pyspark.ml.evaluation import RegressionEvaluator\n",
    "model_predictions=model.transform(testData)\n",
    "model_evaluator=RegressionEvaluator(labelCol='Duration_float',predictionCol='prediction',\n",
    "                                    metricName='rmse')\n",
    "rmse=model_evaluator.evaluate(model_predictions)\n",
    "print(rmse)"
   ]
  }
 ],
 "metadata": {
  "kernelspec": {
   "display_name": "PySpark",
   "language": "",
   "name": "pysparkkernel"
  },
  "language_info": {
   "codemirror_mode": {
    "name": "python",
    "version": 2
   },
   "mimetype": "text/x-python",
   "name": "pyspark",
   "pygments_lexer": "python2"
  }
 },
 "nbformat": 4,
 "nbformat_minor": 4
}
